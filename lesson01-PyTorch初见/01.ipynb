{
 "cells": [
  {
   "attachments": {},
   "cell_type": "markdown",
   "metadata": {},
   "source": [
    "## autograd_demo"
   ]
  },
  {
   "cell_type": "code",
   "execution_count": 1,
   "metadata": {},
   "outputs": [
    {
     "name": "stderr",
     "output_type": "stream",
     "text": [
      "/home/halcyon/ProgramFiles/anaconda3/envs/ngsim/lib/python3.9/site-packages/tqdm/auto.py:22: TqdmWarning: IProgress not found. Please update jupyter and ipywidgets. See https://ipywidgets.readthedocs.io/en/stable/user_install.html\n",
      "  from .autonotebook import tqdm as notebook_tqdm\n"
     ]
    }
   ],
   "source": [
    "import torch"
   ]
  },
  {
   "cell_type": "code",
   "execution_count": 10,
   "metadata": {},
   "outputs": [],
   "source": [
    "x=torch.tensor(1.)\n",
    "# x.dtype\n",
    "a = torch.tensor(1., requires_grad=True)\n",
    "b = torch.tensor(2., requires_grad=True)\n",
    "c = torch.tensor(3., requires_grad=True)\n",
    "y=pow(a,2)*x+b*x+c"
   ]
  },
  {
   "cell_type": "code",
   "execution_count": 12,
   "metadata": {},
   "outputs": [
    {
     "name": "stdout",
     "output_type": "stream",
     "text": [
      "before: None None None\n"
     ]
    }
   ],
   "source": [
    "print('before:', a.grad, b.grad, c.grad)"
   ]
  },
  {
   "attachments": {},
   "cell_type": "markdown",
   "metadata": {},
   "source": [
    "y对a,b,c求偏导"
   ]
  },
  {
   "cell_type": "code",
   "execution_count": 14,
   "metadata": {},
   "outputs": [
    {
     "name": "stdout",
     "output_type": "stream",
     "text": [
      "after : tensor(2.) tensor(1.) tensor(1.)\n"
     ]
    }
   ],
   "source": [
    "grads = torch.autograd.grad(y, [a, b, c])\n",
    "print('after :', grads[0], grads[1], grads[2])"
   ]
  },
  {
   "cell_type": "code",
   "execution_count": 20,
   "metadata": {},
   "outputs": [
    {
     "ename": "RuntimeError",
     "evalue": "Only Tensors of floating point and complex dtype can require gradients",
     "output_type": "error",
     "traceback": [
      "\u001b[0;31m---------------------------------------------------------------------------\u001b[0m",
      "\u001b[0;31mRuntimeError\u001b[0m                              Traceback (most recent call last)",
      "Cell \u001b[0;32mIn[20], line 4\u001b[0m\n\u001b[1;32m      1\u001b[0m x \u001b[39m=\u001b[39m torch\u001b[39m.\u001b[39mtensor(\u001b[39m1\u001b[39m)\n\u001b[1;32m      2\u001b[0m \u001b[39m# a = torch.tensor(1., requires_grad=True)\u001b[39;00m\n\u001b[1;32m      3\u001b[0m \u001b[39m#下面两个是典型错误\u001b[39;00m\n\u001b[0;32m----> 4\u001b[0m a \u001b[39m=\u001b[39m torch\u001b[39m.\u001b[39;49mtensor(\u001b[39m1\u001b[39;49m, requires_grad\u001b[39m=\u001b[39;49m\u001b[39mTrue\u001b[39;49;00m) \u001b[39m#\u001b[39;00m\n\u001b[1;32m      5\u001b[0m \u001b[39m# a = torch.tensor(1.) #One of the differentiated Tensors does not require grad\u001b[39;00m\n\u001b[1;32m      6\u001b[0m b \u001b[39m=\u001b[39m torch\u001b[39m.\u001b[39mtensor(\u001b[39m2.\u001b[39m, requires_grad\u001b[39m=\u001b[39m\u001b[39mTrue\u001b[39;00m)\n",
      "\u001b[0;31mRuntimeError\u001b[0m: Only Tensors of floating point and complex dtype can require gradients"
     ]
    }
   ],
   "source": [
    "x = torch.tensor(1)\n",
    "a = torch.tensor(1., requires_grad=True)\n",
    "#下面两个是典型错误\n",
    "# a = torch.tensor(1, requires_grad=True) # Only Tensors of floating point and complex dtype can require gradients\n",
    "# a = torch.tensor(1.) #One of the differentiated Tensors does not require grad\n",
    "b = torch.tensor(2., requires_grad=True)\n",
    "c = torch.tensor(3., requires_grad=True)\n",
    "y = a**2 * x + b * x + c\n",
    "grads=torch.autograd.grad(y,[a])\n",
    "print(grads)"
   ]
  },
  {
   "attachments": {},
   "cell_type": "markdown",
   "metadata": {},
   "source": [
    "## gpu_accelerate"
   ]
  },
  {
   "cell_type": "code",
   "execution_count": 21,
   "metadata": {},
   "outputs": [
    {
     "name": "stdout",
     "output_type": "stream",
     "text": [
      "1.13.1\n",
      "False\n"
     ]
    }
   ],
   "source": [
    "import \ttorch\n",
    "import  time\n",
    "print(torch.__version__)\n",
    "print(torch.cuda.is_available())"
   ]
  },
  {
   "cell_type": "code",
   "execution_count": 27,
   "metadata": {},
   "outputs": [
    {
     "name": "stdout",
     "output_type": "stream",
     "text": [
      "start point:  1676351695.4668918\n",
      "cpu 0.16660523414611816 tensor(141033.)\n"
     ]
    }
   ],
   "source": [
    "a = torch.randn(10000, 1000)\n",
    "b = torch.randn(1000, 2000)\n",
    "t0 = time.time()\n",
    "print(\"start point: \",t0)\n",
    "c=a@b\n",
    "t1=time.time()\n",
    "# d=torch.matmul(a,b)\n",
    "# print(c-d)\n",
    "print(a.device, t1 - t0, c.norm(2))"
   ]
  },
  {
   "cell_type": "code",
   "execution_count": 33,
   "metadata": {},
   "outputs": [
    {
     "name": "stdout",
     "output_type": "stream",
     "text": [
      "tensor([[ 0.5336, -1.4233]]) tensor(1.5200) tensor(1.9569)\n"
     ]
    }
   ],
   "source": [
    "a=torch.randn(1,2)\n",
    "print(a,a.norm(2),a.norm(1))"
   ]
  },
  {
   "cell_type": "code",
   "execution_count": null,
   "metadata": {},
   "outputs": [],
   "source": []
  }
 ],
 "metadata": {
  "kernelspec": {
   "display_name": "ngsim",
   "language": "python",
   "name": "python3"
  },
  "language_info": {
   "codemirror_mode": {
    "name": "ipython",
    "version": 3
   },
   "file_extension": ".py",
   "mimetype": "text/x-python",
   "name": "python",
   "nbconvert_exporter": "python",
   "pygments_lexer": "ipython3",
   "version": "3.9.15"
  },
  "orig_nbformat": 4,
  "vscode": {
   "interpreter": {
    "hash": "c0dcbcd98781419af1a8bb81854847d456fd6288ab8580d653df1b1cc53d926b"
   }
  }
 },
 "nbformat": 4,
 "nbformat_minor": 2
}
