{
 "cells": [
  {
   "cell_type": "code",
   "execution_count": 1,
   "metadata": {},
   "outputs": [
    {
     "name": "stderr",
     "output_type": "stream",
     "text": [
      "/home/halcyon/ProgramFiles/anaconda3/envs/ngsim/lib/python3.9/site-packages/tqdm/auto.py:22: TqdmWarning: IProgress not found. Please update jupyter and ipywidgets. See https://ipywidgets.readthedocs.io/en/stable/user_install.html\n",
      "  from .autonotebook import tqdm as notebook_tqdm\n"
     ]
    }
   ],
   "source": [
    "import torch"
   ]
  },
  {
   "attachments": {},
   "cell_type": "markdown",
   "metadata": {},
   "source": [
    "## Normalization\n",
    "\n",
    "https://blog.csdn.net/qq_39382877/article/details/98875822\n"
   ]
  },
  {
   "cell_type": "code",
   "execution_count": 21,
   "metadata": {},
   "outputs": [
    {
     "data": {
      "text/plain": [
       "tensor([[[-2., -2.,  1.],\n",
       "         [-1., -2.,  0.]],\n",
       "\n",
       "        [[-1.,  1., -2.],\n",
       "         [ 0., -1., -2.]]], dtype=torch.float64)"
      ]
     },
     "execution_count": 21,
     "metadata": {},
     "output_type": "execute_result"
    }
   ],
   "source": [
    "a=torch.randint(-2,2,(2,2,3),dtype=float)\n",
    "a"
   ]
  },
  {
   "cell_type": "code",
   "execution_count": 19,
   "metadata": {},
   "outputs": [
    {
     "data": {
      "text/plain": [
       "torch.Size([2, 2])"
      ]
     },
     "execution_count": 19,
     "metadata": {},
     "output_type": "execute_result"
    }
   ],
   "source": [
    "a.norm(3,dim=2).shape"
   ]
  },
  {
   "cell_type": "code",
   "execution_count": 24,
   "metadata": {},
   "outputs": [
    {
     "data": {
      "text/plain": [
       "tensor(2)"
      ]
     },
     "execution_count": 24,
     "metadata": {},
     "output_type": "execute_result"
    }
   ],
   "source": [
    "a=torch.tensor([1,2])\n",
    "a.prod()"
   ]
  },
  {
   "cell_type": "code",
   "execution_count": 33,
   "metadata": {},
   "outputs": [
    {
     "data": {
      "text/plain": [
       "tensor([[[-1.7665, -0.5123, -0.8416,  0.1253],\n",
       "         [ 0.8669,  0.5936, -2.0026, -0.9076],\n",
       "         [ 1.7972,  0.0321,  0.6369,  1.0454]],\n",
       "\n",
       "        [[ 1.0656,  0.4649, -0.1323,  1.4071],\n",
       "         [-1.9721, -0.9167,  1.0249,  0.8079],\n",
       "         [ 0.2018,  0.3975,  0.5657, -0.7386]]])"
      ]
     },
     "execution_count": 33,
     "metadata": {},
     "output_type": "execute_result"
    }
   ],
   "source": [
    "a=torch.randn(2,3,4)\n",
    "a"
   ]
  },
  {
   "cell_type": "code",
   "execution_count": 47,
   "metadata": {},
   "outputs": [
    {
     "data": {
      "text/plain": [
       "torch.Size([2, 3, 1])"
      ]
     },
     "execution_count": 47,
     "metadata": {},
     "output_type": "execute_result"
    }
   ],
   "source": [
    "a.max(dim=2,keepdim=True).indices.shape\n"
   ]
  },
  {
   "cell_type": "code",
   "execution_count": 48,
   "metadata": {},
   "outputs": [
    {
     "data": {
      "text/plain": [
       "torch.return_types.max(\n",
       "values=tensor([[[0.1253],\n",
       "         [0.8669],\n",
       "         [1.7972]],\n",
       "\n",
       "        [[1.4071],\n",
       "         [1.0249],\n",
       "         [0.5657]]]),\n",
       "indices=tensor([[[3],\n",
       "         [0],\n",
       "         [0]],\n",
       "\n",
       "        [[3],\n",
       "         [2],\n",
       "         [2]]]))"
      ]
     },
     "execution_count": 48,
     "metadata": {},
     "output_type": "execute_result"
    }
   ],
   "source": [
    "a.max(dim=2,keepdim=True)"
   ]
  },
  {
   "cell_type": "code",
   "execution_count": 49,
   "metadata": {},
   "outputs": [
    {
     "data": {
      "text/plain": [
       "tensor([[[-1.7665, -0.5123, -0.8416,  0.1253],\n",
       "         [ 0.8669,  0.5936, -2.0026, -0.9076],\n",
       "         [ 1.7972,  0.0321,  0.6369,  1.0454]],\n",
       "\n",
       "        [[ 1.0656,  0.4649, -0.1323,  1.4071],\n",
       "         [-1.9721, -0.9167,  1.0249,  0.8079],\n",
       "         [ 0.2018,  0.3975,  0.5657, -0.7386]]])"
      ]
     },
     "execution_count": 49,
     "metadata": {},
     "output_type": "execute_result"
    }
   ],
   "source": [
    "a"
   ]
  },
  {
   "cell_type": "code",
   "execution_count": 50,
   "metadata": {},
   "outputs": [
    {
     "data": {
      "text/plain": [
       "torch.return_types.topk(\n",
       "values=tensor([[[ 0.1253, -0.5123, -0.8416],\n",
       "         [ 0.8669,  0.5936, -0.9076],\n",
       "         [ 1.7972,  1.0454,  0.6369]],\n",
       "\n",
       "        [[ 1.4071,  1.0656,  0.4649],\n",
       "         [ 1.0249,  0.8079, -0.9167],\n",
       "         [ 0.5657,  0.3975,  0.2018]]]),\n",
       "indices=tensor([[[3, 1, 2],\n",
       "         [0, 1, 3],\n",
       "         [0, 3, 2]],\n",
       "\n",
       "        [[3, 0, 1],\n",
       "         [2, 3, 1],\n",
       "         [2, 1, 0]]]))"
      ]
     },
     "execution_count": 50,
     "metadata": {},
     "output_type": "execute_result"
    }
   ],
   "source": [
    "a.topk(3,dim=2)"
   ]
  },
  {
   "cell_type": "code",
   "execution_count": 51,
   "metadata": {},
   "outputs": [
    {
     "data": {
      "text/plain": [
       "torch.return_types.topk(\n",
       "values=tensor([[[-1.7665, -0.8416, -0.5123],\n",
       "         [-2.0026, -0.9076,  0.5936],\n",
       "         [ 0.0321,  0.6369,  1.0454]],\n",
       "\n",
       "        [[-0.1323,  0.4649,  1.0656],\n",
       "         [-1.9721, -0.9167,  0.8079],\n",
       "         [-0.7386,  0.2018,  0.3975]]]),\n",
       "indices=tensor([[[0, 2, 1],\n",
       "         [2, 3, 1],\n",
       "         [1, 2, 3]],\n",
       "\n",
       "        [[2, 1, 0],\n",
       "         [0, 1, 3],\n",
       "         [3, 0, 1]]]))"
      ]
     },
     "execution_count": 51,
     "metadata": {},
     "output_type": "execute_result"
    }
   ],
   "source": [
    "a.topk(3,dim=2,largest=False) #排除最大的"
   ]
  },
  {
   "cell_type": "code",
   "execution_count": 55,
   "metadata": {},
   "outputs": [
    {
     "data": {
      "text/plain": [
       "tensor([[[-1.7665, -0.5123, -0.8416,  0.1253],\n",
       "         [ 0.8669,  0.5936, -2.0026, -0.9076],\n",
       "         [ 1.7972,  0.0321,  0.6369,  1.0454]],\n",
       "\n",
       "        [[ 1.0656,  0.4649, -0.1323,  1.4071],\n",
       "         [-1.9721, -0.9167,  1.0249,  0.8079],\n",
       "         [ 0.2018,  0.3975,  0.5657, -0.7386]]])"
      ]
     },
     "execution_count": 55,
     "metadata": {},
     "output_type": "execute_result"
    }
   ],
   "source": [
    "a"
   ]
  },
  {
   "cell_type": "code",
   "execution_count": 59,
   "metadata": {},
   "outputs": [
    {
     "data": {
      "text/plain": [
       "torch.return_types.kthvalue(\n",
       "values=tensor([[[-0.8416],\n",
       "         [-0.9076],\n",
       "         [ 0.6369]],\n",
       "\n",
       "        [[ 0.4649],\n",
       "         [-0.9167],\n",
       "         [ 0.2018]]]),\n",
       "indices=tensor([[[2],\n",
       "         [3],\n",
       "         [2]],\n",
       "\n",
       "        [[1],\n",
       "         [1],\n",
       "         [0]]]))"
      ]
     },
     "execution_count": 59,
     "metadata": {},
     "output_type": "execute_result"
    }
   ],
   "source": [
    "a.kthvalue(2,dim=2,keepdim=True,larges) #k-th 最小元素"
   ]
  },
  {
   "cell_type": "code",
   "execution_count": null,
   "metadata": {},
   "outputs": [],
   "source": []
  }
 ],
 "metadata": {
  "kernelspec": {
   "display_name": "ngsim",
   "language": "python",
   "name": "python3"
  },
  "language_info": {
   "codemirror_mode": {
    "name": "ipython",
    "version": 3
   },
   "file_extension": ".py",
   "mimetype": "text/x-python",
   "name": "python",
   "nbconvert_exporter": "python",
   "pygments_lexer": "ipython3",
   "version": "3.9.15"
  },
  "orig_nbformat": 4,
  "vscode": {
   "interpreter": {
    "hash": "c0dcbcd98781419af1a8bb81854847d456fd6288ab8580d653df1b1cc53d926b"
   }
  }
 },
 "nbformat": 4,
 "nbformat_minor": 2
}
