{
 "cells": [
  {
   "cell_type": "code",
   "execution_count": 1,
   "metadata": {},
   "outputs": [
    {
     "name": "stderr",
     "output_type": "stream",
     "text": [
      "/home/halcyon/ProgramFiles/anaconda3/envs/ngsim/lib/python3.9/site-packages/tqdm/auto.py:22: TqdmWarning: IProgress not found. Please update jupyter and ipywidgets. See https://ipywidgets.readthedocs.io/en/stable/user_install.html\n",
      "  from .autonotebook import tqdm as notebook_tqdm\n"
     ]
    }
   ],
   "source": [
    "import torch"
   ]
  },
  {
   "cell_type": "code",
   "execution_count": 8,
   "metadata": {},
   "outputs": [
    {
     "name": "stdout",
     "output_type": "stream",
     "text": [
      "tensor([[ 0.8651, -1.7235],\n",
      "        [-0.2326, -0.5935]]) \n",
      " tensor([[0., 0.],\n",
      "        [0., 0.]]) \n",
      " tensor([[1., 1.],\n",
      "        [1., 1.]])\n"
     ]
    }
   ],
   "source": [
    "cond=torch.randn(2,2)\n",
    "a=torch.zeros(2,2)\n",
    "b=torch.ones(2,2)\n",
    "print(cond,'\\n',a,'\\n',b)"
   ]
  },
  {
   "cell_type": "code",
   "execution_count": 9,
   "metadata": {},
   "outputs": [
    {
     "data": {
      "text/plain": [
       "tensor([[0., 1.],\n",
       "        [1., 1.]])"
      ]
     },
     "execution_count": 9,
     "metadata": {},
     "output_type": "execute_result"
    }
   ],
   "source": [
    "torch.where(cond>0,a,b)"
   ]
  },
  {
   "attachments": {},
   "cell_type": "markdown",
   "metadata": {},
   "source": [
    "## torch.gather"
   ]
  },
  {
   "cell_type": "code",
   "execution_count": 30,
   "metadata": {},
   "outputs": [
    {
     "data": {
      "text/plain": [
       "torch.Size([4, 20])"
      ]
     },
     "execution_count": 30,
     "metadata": {},
     "output_type": "execute_result"
    }
   ],
   "source": [
    "prob=torch.randn(4,20) #标准正态分布 维数\n",
    "prob.shape"
   ]
  },
  {
   "cell_type": "code",
   "execution_count": 32,
   "metadata": {},
   "outputs": [
    {
     "data": {
      "text/plain": [
       "torch.return_types.topk(\n",
       "values=tensor([[1.8251, 1.1618, 1.1585],\n",
       "        [1.1913, 1.0538, 0.9340],\n",
       "        [1.2529, 1.2489, 1.0719],\n",
       "        [2.0312, 1.7732, 1.3777]]),\n",
       "indices=tensor([[ 5,  1, 14],\n",
       "        [14,  5, 19],\n",
       "        [ 6,  1,  9],\n",
       "        [13, 18, 19]]))"
      ]
     },
     "execution_count": 32,
     "metadata": {},
     "output_type": "execute_result"
    }
   ],
   "source": [
    "idx=prob.topk(dim=1,k=3)\n",
    "idx.values.shape #[4,3]\n",
    "idx"
   ]
  },
  {
   "cell_type": "code",
   "execution_count": 33,
   "metadata": {},
   "outputs": [
    {
     "name": "stdout",
     "output_type": "stream",
     "text": [
      "tensor([[1.8251, 1.1618, 1.1585],\n",
      "        [1.1913, 1.0538, 0.9340],\n",
      "        [1.2529, 1.2489, 1.0719],\n",
      "        [2.0312, 1.7732, 1.3777]])\n",
      "tensor([[ 5,  1, 14],\n",
      "        [14,  5, 19],\n",
      "        [ 6,  1,  9],\n",
      "        [13, 18, 19]])\n"
     ]
    }
   ],
   "source": [
    "print(idx[0])\n",
    "print(idx[1])"
   ]
  },
  {
   "cell_type": "code",
   "execution_count": 41,
   "metadata": {},
   "outputs": [
    {
     "name": "stdout",
     "output_type": "stream",
     "text": [
      "torch.Size([20])\n",
      "tensor([[100, 101, 102, 103, 104, 105, 106, 107, 108, 109, 110, 111, 112, 113,\n",
      "         114, 115, 116, 117, 118, 119],\n",
      "        [100, 101, 102, 103, 104, 105, 106, 107, 108, 109, 110, 111, 112, 113,\n",
      "         114, 115, 116, 117, 118, 119],\n",
      "        [100, 101, 102, 103, 104, 105, 106, 107, 108, 109, 110, 111, 112, 113,\n",
      "         114, 115, 116, 117, 118, 119],\n",
      "        [100, 101, 102, 103, 104, 105, 106, 107, 108, 109, 110, 111, 112, 113,\n",
      "         114, 115, 116, 117, 118, 119]])\n"
     ]
    }
   ],
   "source": [
    "label=torch.arange(20)+100\n",
    "print(label.shape)\n",
    "print(label.expand(4,20))"
   ]
  },
  {
   "cell_type": "code",
   "execution_count": 42,
   "metadata": {},
   "outputs": [
    {
     "data": {
      "text/plain": [
       "tensor([[105, 101, 114],\n",
       "        [114, 105, 119],\n",
       "        [106, 101, 109],\n",
       "        [113, 118, 119]])"
      ]
     },
     "execution_count": 42,
     "metadata": {},
     "output_type": "execute_result"
    }
   ],
   "source": [
    "torch.gather(input=label.expand(4,20),dim=1,index=idx[1])"
   ]
  },
  {
   "cell_type": "code",
   "execution_count": null,
   "metadata": {},
   "outputs": [],
   "source": []
  }
 ],
 "metadata": {
  "kernelspec": {
   "display_name": "ngsim",
   "language": "python",
   "name": "python3"
  },
  "language_info": {
   "codemirror_mode": {
    "name": "ipython",
    "version": 3
   },
   "file_extension": ".py",
   "mimetype": "text/x-python",
   "name": "python",
   "nbconvert_exporter": "python",
   "pygments_lexer": "ipython3",
   "version": "3.9.15"
  },
  "orig_nbformat": 4,
  "vscode": {
   "interpreter": {
    "hash": "c0dcbcd98781419af1a8bb81854847d456fd6288ab8580d653df1b1cc53d926b"
   }
  }
 },
 "nbformat": 4,
 "nbformat_minor": 2
}
