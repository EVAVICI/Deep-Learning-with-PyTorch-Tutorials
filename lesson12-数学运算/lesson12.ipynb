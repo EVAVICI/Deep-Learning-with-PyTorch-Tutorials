{
 "cells": [
  {
   "cell_type": "code",
   "execution_count": 1,
   "metadata": {},
   "outputs": [
    {
     "name": "stderr",
     "output_type": "stream",
     "text": [
      "/home/halcyon/ProgramFiles/anaconda3/envs/ngsim/lib/python3.9/site-packages/tqdm/auto.py:22: TqdmWarning: IProgress not found. Please update jupyter and ipywidgets. See https://ipywidgets.readthedocs.io/en/stable/user_install.html\n",
      "  from .autonotebook import tqdm as notebook_tqdm\n"
     ]
    }
   ],
   "source": [
    "import torch"
   ]
  },
  {
   "cell_type": "code",
   "execution_count": 2,
   "metadata": {},
   "outputs": [
    {
     "name": "stdout",
     "output_type": "stream",
     "text": [
      "tensor([[ 1.4550,  0.6488, -0.4486, -1.6204],\n",
      "        [-0.7860, -0.5368, -0.4361, -0.3776],\n",
      "        [-0.8394, -0.3851,  0.8052, -0.4962]])\n",
      "tensor([ 0.7468, -0.3227, -0.7467,  1.2798])\n"
     ]
    }
   ],
   "source": [
    "a=torch.randn(3,4)\n",
    "b=torch.randn(4)\n",
    "print(a)\n",
    "print(b)"
   ]
  },
  {
   "cell_type": "code",
   "execution_count": 4,
   "metadata": {},
   "outputs": [
    {
     "data": {
      "text/plain": [
       "tensor([[ 2.9100,  1.2975, -0.8972, -3.2408],\n",
       "        [-1.5720, -1.0736, -0.8721, -0.7552],\n",
       "        [-1.6788, -0.7701,  1.6105, -0.9923]])"
      ]
     },
     "execution_count": 4,
     "metadata": {},
     "output_type": "execute_result"
    }
   ],
   "source": [
    "a*2"
   ]
  },
  {
   "cell_type": "code",
   "execution_count": 5,
   "metadata": {},
   "outputs": [
    {
     "data": {
      "text/plain": [
       "tensor([[ 2.4550,  1.6488,  0.5514, -0.6204],\n",
       "        [ 0.2140,  0.4632,  0.5639,  0.6224],\n",
       "        [ 0.1606,  0.6149,  1.8052,  0.5038]])"
      ]
     },
     "execution_count": 5,
     "metadata": {},
     "output_type": "execute_result"
    }
   ],
   "source": [
    "a+1"
   ]
  },
  {
   "cell_type": "code",
   "execution_count": 7,
   "metadata": {},
   "outputs": [
    {
     "data": {
      "text/plain": [
       "tensor(False)"
      ]
     },
     "execution_count": 7,
     "metadata": {},
     "output_type": "execute_result"
    }
   ],
   "source": [
    "torch.all(torch.eye(4))"
   ]
  },
  {
   "cell_type": "code",
   "execution_count": 8,
   "metadata": {},
   "outputs": [
    {
     "data": {
      "text/plain": [
       "tensor(True)"
      ]
     },
     "execution_count": 8,
     "metadata": {},
     "output_type": "execute_result"
    }
   ],
   "source": [
    "torch.all(torch.ones(4,4))"
   ]
  },
  {
   "cell_type": "code",
   "execution_count": 14,
   "metadata": {},
   "outputs": [],
   "source": [
    "b=torch.randn(3)"
   ]
  },
  {
   "cell_type": "code",
   "execution_count": 24,
   "metadata": {},
   "outputs": [
    {
     "data": {
      "text/plain": [
       "tensor([[[ 0.0064, -1.0044,  0.2598, -0.3646, -0.1275],\n",
       "         [ 0.2040, -0.0940,  0.9170, -0.1541,  0.5788],\n",
       "         [-0.0245,  1.4593, -0.0405,  0.3808,  2.1842],\n",
       "         [-0.2481,  2.7257,  0.8660,  0.0580,  0.3524]],\n",
       "\n",
       "        [[ 0.0896, -0.6051,  0.2085, -0.0308,  0.1516],\n",
       "         [-0.0517,  0.1030,  0.1293, -0.0420, -0.0546],\n",
       "         [-0.0028,  1.2874,  0.0095, -0.1751,  0.9286],\n",
       "         [ 0.9112, -0.4765,  1.0075, -0.0494, -1.8575]],\n",
       "\n",
       "        [[ 0.4925, -1.4378, -0.2774, -0.6650, -0.2553],\n",
       "         [-0.0983, -0.0424,  1.3079,  0.0794,  0.0399],\n",
       "         [-0.0144, -0.5169, -0.0360, -0.3373, -0.2055],\n",
       "         [-0.3857, -2.4264, -0.1698, -0.2868, -2.3733]]])"
      ]
     },
     "execution_count": 24,
     "metadata": {},
     "output_type": "execute_result"
    }
   ],
   "source": [
    "a=torch.randn(3,4,5)\n",
    "b=torch.randn(4,5)\n",
    "a*b"
   ]
  },
  {
   "cell_type": "code",
   "execution_count": 26,
   "metadata": {},
   "outputs": [
    {
     "data": {
      "text/plain": [
       "tensor([[ 0.5711],\n",
       "        [-1.9588]])"
      ]
     },
     "execution_count": 26,
     "metadata": {},
     "output_type": "execute_result"
    }
   ],
   "source": [
    "a=torch.randn(2,2)\n",
    "b=torch.randn(2,1)\n",
    "a.mm(b)"
   ]
  },
  {
   "cell_type": "code",
   "execution_count": 30,
   "metadata": {},
   "outputs": [
    {
     "name": "stdout",
     "output_type": "stream",
     "text": [
      "torch.Size([4, 3, 28, 32]) torch.Size([4, 3, 28, 64]) torch.Size([4, 3, 64, 32]) torch.Size([4, 3, 28, 32])\n"
     ]
    }
   ],
   "source": [
    "a=torch.randn(4,3,28,64)\n",
    "b=torch.randn(4,3,64,32)\n",
    "print(torch.matmul(a,b).shape,a.shape,b.shape,(a@b).shape)"
   ]
  },
  {
   "cell_type": "code",
   "execution_count": 39,
   "metadata": {},
   "outputs": [
    {
     "ename": "RuntimeError",
     "evalue": "The size of tensor a (7) must match the size of tensor b (9) at non-singleton dimension 3",
     "output_type": "error",
     "traceback": [
      "\u001b[0;31m---------------------------------------------------------------------------\u001b[0m",
      "\u001b[0;31mRuntimeError\u001b[0m                              Traceback (most recent call last)",
      "Cell \u001b[0;32mIn[39], line 4\u001b[0m\n\u001b[1;32m      2\u001b[0m b\u001b[39m=\u001b[39mtorch\u001b[39m.\u001b[39mrandn(\u001b[39m5\u001b[39m,\u001b[39m6\u001b[39m,\u001b[39m8\u001b[39m,\u001b[39m9\u001b[39m,\u001b[39m10\u001b[39m,\u001b[39m11\u001b[39m)\n\u001b[1;32m      3\u001b[0m \u001b[39m# c=torch.randn(5,6,8)\u001b[39;00m\n\u001b[0;32m----> 4\u001b[0m (a\u001b[39m@b\u001b[39;49m)\u001b[39m.\u001b[39mshape\n",
      "\u001b[0;31mRuntimeError\u001b[0m: The size of tensor a (7) must match the size of tensor b (9) at non-singleton dimension 3"
     ]
    }
   ],
   "source": [
    "a=torch.randn(5,6,7,8,9)\n",
    "b=torch.randn(5,6,8,9,10,11)\n",
    "# c=torch.randn(5,6,8)\n",
    "(a@b).shape\n",
    "# (a@c).shape"
   ]
  },
  {
   "cell_type": "code",
   "execution_count": 41,
   "metadata": {},
   "outputs": [
    {
     "data": {
      "text/plain": [
       "torch.Size([5, 6, 7, 8, 9])"
      ]
     },
     "execution_count": 41,
     "metadata": {},
     "output_type": "execute_result"
    }
   ],
   "source": [
    "torch.pow(a,2).shape"
   ]
  },
  {
   "cell_type": "code",
   "execution_count": 44,
   "metadata": {},
   "outputs": [
    {
     "data": {
      "text/plain": [
       "torch.Size([3, 2])"
      ]
     },
     "execution_count": 44,
     "metadata": {},
     "output_type": "execute_result"
    }
   ],
   "source": [
    "d=torch.randn(3,2).pow(2).shape\n",
    "d"
   ]
  },
  {
   "cell_type": "code",
   "execution_count": 46,
   "metadata": {},
   "outputs": [],
   "source": [
    "a=torch.full((2,2),3)\n",
    "a=a**2"
   ]
  },
  {
   "cell_type": "code",
   "execution_count": 47,
   "metadata": {},
   "outputs": [
    {
     "data": {
      "text/plain": [
       "tensor([[0.3333, 0.3333],\n",
       "        [0.3333, 0.3333]])"
      ]
     },
     "execution_count": 47,
     "metadata": {},
     "output_type": "execute_result"
    }
   ],
   "source": [
    "a.rsqrt()"
   ]
  },
  {
   "cell_type": "code",
   "execution_count": 48,
   "metadata": {},
   "outputs": [
    {
     "data": {
      "text/plain": [
       "tensor([[3., 3.],\n",
       "        [3., 3.]])"
      ]
     },
     "execution_count": 48,
     "metadata": {},
     "output_type": "execute_result"
    }
   ],
   "source": [
    "a.sqrt()"
   ]
  },
  {
   "cell_type": "code",
   "execution_count": 50,
   "metadata": {},
   "outputs": [
    {
     "data": {
      "text/plain": [
       "tensor([[14.7639, 13.4842,  0.3522],\n",
       "        [ 4.2149,  8.9469,  3.0810]])"
      ]
     },
     "execution_count": 50,
     "metadata": {},
     "output_type": "execute_result"
    }
   ],
   "source": [
    "torch.rand(2,3)*15"
   ]
  },
  {
   "cell_type": "code",
   "execution_count": 52,
   "metadata": {},
   "outputs": [
    {
     "data": {
      "text/plain": [
       "tensor([[10.0000,  6.2547,  6.6705],\n",
       "        [10.0000,  9.3751,  2.5215]])"
      ]
     },
     "execution_count": 52,
     "metadata": {},
     "output_type": "execute_result"
    }
   ],
   "source": [
    "torch.clamp(torch.rand(2,3)*15,0,10)"
   ]
  },
  {
   "cell_type": "code",
   "execution_count": null,
   "metadata": {},
   "outputs": [],
   "source": []
  }
 ],
 "metadata": {
  "kernelspec": {
   "display_name": "ngsim",
   "language": "python",
   "name": "python3"
  },
  "language_info": {
   "codemirror_mode": {
    "name": "ipython",
    "version": 3
   },
   "file_extension": ".py",
   "mimetype": "text/x-python",
   "name": "python",
   "nbconvert_exporter": "python",
   "pygments_lexer": "ipython3",
   "version": "3.9.15"
  },
  "orig_nbformat": 4,
  "vscode": {
   "interpreter": {
    "hash": "c0dcbcd98781419af1a8bb81854847d456fd6288ab8580d653df1b1cc53d926b"
   }
  }
 },
 "nbformat": 4,
 "nbformat_minor": 2
}
