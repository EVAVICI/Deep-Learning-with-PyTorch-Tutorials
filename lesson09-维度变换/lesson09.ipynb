{
 "cells": [
  {
   "attachments": {},
   "cell_type": "markdown",
   "metadata": {},
   "source": [
    "## Tensor 维度变换"
   ]
  },
  {
   "cell_type": "code",
   "execution_count": 2,
   "metadata": {},
   "outputs": [
    {
     "name": "stderr",
     "output_type": "stream",
     "text": [
      "/home/halcyon/ProgramFiles/anaconda3/envs/ngsim/lib/python3.9/site-packages/tqdm/auto.py:22: TqdmWarning: IProgress not found. Please update jupyter and ipywidgets. See https://ipywidgets.readthedocs.io/en/stable/user_install.html\n",
      "  from .autonotebook import tqdm as notebook_tqdm\n"
     ]
    }
   ],
   "source": [
    "import torch"
   ]
  },
  {
   "attachments": {},
   "cell_type": "markdown",
   "metadata": {},
   "source": [
    "## View/reshape\n",
    "\n",
    "丢维度信息"
   ]
  },
  {
   "cell_type": "code",
   "execution_count": 3,
   "metadata": {},
   "outputs": [
    {
     "data": {
      "text/plain": [
       "torch.Size([4, 1, 28, 28])"
      ]
     },
     "execution_count": 3,
     "metadata": {},
     "output_type": "execute_result"
    }
   ],
   "source": [
    "a=torch.rand(4,1,28,28) #rand 生成均匀分布的伪随机数。分布在(0~1)之间主要语法:rand(m,n)生成m行n列的均匀分布的伪随机数,rand(m,n,'d...\n",
    "# randn 生成标准正态分布的伪随机数(均值为0,方差为1)\n",
    "a.shape"
   ]
  },
  {
   "cell_type": "code",
   "execution_count": 5,
   "metadata": {},
   "outputs": [
    {
     "name": "stdout",
     "output_type": "stream",
     "text": [
      "tensor([[[0.8169, 0.7721, 0.0737],\n",
      "         [0.1124, 0.8476, 0.4285]]])\n",
      "tensor([[-0.3564, -0.9953]])\n"
     ]
    }
   ],
   "source": [
    "# b=torch.rand(1,2,3)\n",
    "# print(b)\n",
    "# print(torch.randn(1,2))"
   ]
  },
  {
   "cell_type": "code",
   "execution_count": 8,
   "metadata": {},
   "outputs": [
    {
     "data": {
      "text/plain": [
       "torch.Size([112, 1, 28])"
      ]
     },
     "execution_count": 8,
     "metadata": {},
     "output_type": "execute_result"
    }
   ],
   "source": [
    "a.view(4,28*28).shape\n",
    "a.view(4*28,1,28).shape"
   ]
  },
  {
   "cell_type": "code",
   "execution_count": 11,
   "metadata": {},
   "outputs": [
    {
     "data": {
      "text/plain": [
       "torch.Size([4, 28, 28, 1])"
      ]
     },
     "execution_count": 11,
     "metadata": {},
     "output_type": "execute_result"
    }
   ],
   "source": [
    "b=a.view(4,784)\n",
    "b.view(4,28,28,1).shape #为什么 logic bug???? 只能压降维度,不能升高维度有问题"
   ]
  },
  {
   "cell_type": "code",
   "execution_count": 24,
   "metadata": {},
   "outputs": [
    {
     "data": {
      "text/plain": [
       "torch.float32"
      ]
     },
     "execution_count": 24,
     "metadata": {},
     "output_type": "execute_result"
    }
   ],
   "source": [
    "a=torch.rand(1,3,2)\n",
    "print(a)"
   ]
  },
  {
   "cell_type": "code",
   "execution_count": 21,
   "metadata": {},
   "outputs": [
    {
     "data": {
      "text/plain": [
       "tensor([[0.3639, 0.5460, 0.4463, 0.8858, 0.1683, 0.2863, 0.0665, 0.9243],\n",
       "        [0.5405, 0.5960, 0.2534, 0.8836, 0.5191, 0.2870, 0.3682, 0.9355],\n",
       "        [0.4313, 0.3078, 0.7532, 0.4840, 0.3093, 0.3262, 0.2667, 0.2077]])"
      ]
     },
     "execution_count": 21,
     "metadata": {},
     "output_type": "execute_result"
    }
   ],
   "source": [
    "b=a.view(3,8)\n",
    "b"
   ]
  },
  {
   "cell_type": "code",
   "execution_count": 22,
   "metadata": {},
   "outputs": [
    {
     "data": {
      "text/plain": [
       "tensor([[0.3639, 0.5460, 0.4463, 0.8858, 0.1683, 0.2863, 0.0665, 0.9243],\n",
       "        [0.5405, 0.5960, 0.2534, 0.8836, 0.5191, 0.2870, 0.3682, 0.9355],\n",
       "        [0.4313, 0.3078, 0.7532, 0.4840, 0.3093, 0.3262, 0.2667, 0.2077]])"
      ]
     },
     "execution_count": 22,
     "metadata": {},
     "output_type": "execute_result"
    }
   ],
   "source": [
    "b.view(2,3,4) #根本没变 和上面的b\n",
    "b"
   ]
  },
  {
   "cell_type": "code",
   "execution_count": 25,
   "metadata": {},
   "outputs": [
    {
     "name": "stdout",
     "output_type": "stream",
     "text": [
      "torch.FloatTensor\n",
      "torch.float32\n"
     ]
    }
   ],
   "source": [
    "print(a.type())\n",
    "print(a.dtype)"
   ]
  },
  {
   "cell_type": "code",
   "execution_count": 26,
   "metadata": {},
   "outputs": [
    {
     "ename": "RuntimeError",
     "evalue": "shape '[3, 7]' is invalid for input of size 24",
     "output_type": "error",
     "traceback": [
      "\u001b[0;31m---------------------------------------------------------------------------\u001b[0m",
      "\u001b[0;31mRuntimeError\u001b[0m                              Traceback (most recent call last)",
      "Cell \u001b[0;32mIn[26], line 1\u001b[0m\n\u001b[0;32m----> 1\u001b[0m a\u001b[39m.\u001b[39;49mview(\u001b[39m3\u001b[39;49m,\u001b[39m7\u001b[39;49m)\n",
      "\u001b[0;31mRuntimeError\u001b[0m: shape '[3, 7]' is invalid for input of size 24"
     ]
    }
   ],
   "source": [
    "a.view(3,7)"
   ]
  },
  {
   "attachments": {},
   "cell_type": "markdown",
   "metadata": {},
   "source": [
    "## squeeze"
   ]
  },
  {
   "cell_type": "code",
   "execution_count": 27,
   "metadata": {},
   "outputs": [
    {
     "data": {
      "text/plain": [
       "torch.Size([4, 3, 2])"
      ]
     },
     "execution_count": 27,
     "metadata": {},
     "output_type": "execute_result"
    }
   ],
   "source": [
    "a.shape"
   ]
  },
  {
   "cell_type": "code",
   "execution_count": 29,
   "metadata": {},
   "outputs": [
    {
     "data": {
      "text/plain": [
       "torch.Size([4, 3, 1, 2])"
      ]
     },
     "execution_count": 29,
     "metadata": {},
     "output_type": "execute_result"
    }
   ],
   "source": [
    "a.unsqueeze(2).shape"
   ]
  },
  {
   "cell_type": "code",
   "execution_count": 34,
   "metadata": {},
   "outputs": [
    {
     "ename": "IndexError",
     "evalue": "Dimension out of range (expected to be in range of [-4, 3], but got 4)",
     "output_type": "error",
     "traceback": [
      "\u001b[0;31m---------------------------------------------------------------------------\u001b[0m",
      "\u001b[0;31mIndexError\u001b[0m                                Traceback (most recent call last)",
      "Cell \u001b[0;32mIn[34], line 1\u001b[0m\n\u001b[0;32m----> 1\u001b[0m a\u001b[39m.\u001b[39;49munsqueeze(\u001b[39m4\u001b[39;49m)\u001b[39m.\u001b[39mshape\n",
      "\u001b[0;31mIndexError\u001b[0m: Dimension out of range (expected to be in range of [-4, 3], but got 4)"
     ]
    }
   ],
   "source": [
    "a.unsqueeze(4).shape #expected to be in range of [-4, 3] 正数0-3 倒数-4到-1"
   ]
  },
  {
   "cell_type": "code",
   "execution_count": 35,
   "metadata": {},
   "outputs": [
    {
     "data": {
      "text/plain": [
       "torch.Size([4, 3, 2, 1])"
      ]
     },
     "execution_count": 35,
     "metadata": {},
     "output_type": "execute_result"
    }
   ],
   "source": [
    "b=a.unsqueeze(3)\n",
    "b.shape"
   ]
  },
  {
   "cell_type": "code",
   "execution_count": 41,
   "metadata": {},
   "outputs": [
    {
     "data": {
      "text/plain": [
       "torch.Size([4, 3, 2])"
      ]
     },
     "execution_count": 41,
     "metadata": {},
     "output_type": "execute_result"
    }
   ],
   "source": [
    "b.squeeze().shape #只压缩只有1个元素的维度"
   ]
  },
  {
   "attachments": {},
   "cell_type": "markdown",
   "metadata": {},
   "source": [
    "## Expand / repeat"
   ]
  },
  {
   "cell_type": "code",
   "execution_count": 45,
   "metadata": {},
   "outputs": [
    {
     "data": {
      "text/plain": [
       "tensor([[[0.1069, 0.8662],\n",
       "         [0.0812, 0.3723],\n",
       "         [0.1449, 0.6075]],\n",
       "\n",
       "        [[0.1430, 0.4440],\n",
       "         [0.3562, 0.0618],\n",
       "         [0.5284, 0.8202]],\n",
       "\n",
       "        [[0.6839, 0.0346],\n",
       "         [0.5351, 0.8804],\n",
       "         [0.5480, 0.4716]],\n",
       "\n",
       "        [[0.3208, 0.5680],\n",
       "         [0.6809, 0.8518],\n",
       "         [0.6759, 0.1831]]])"
      ]
     },
     "execution_count": 45,
     "metadata": {},
     "output_type": "execute_result"
    }
   ],
   "source": [
    "a.shape\n",
    "a"
   ]
  },
  {
   "cell_type": "code",
   "execution_count": 49,
   "metadata": {},
   "outputs": [
    {
     "name": "stdout",
     "output_type": "stream",
     "text": [
      "torch.Size([4, 32, 14, 14]) torch.Size([1, 32, 1, 1])\n"
     ]
    }
   ],
   "source": [
    "a=torch.rand(4,32,14,14)\n",
    "b=torch.rand(1,32,1,1)\n",
    "print(a.shape,b.shape)"
   ]
  },
  {
   "cell_type": "code",
   "execution_count": 50,
   "metadata": {},
   "outputs": [
    {
     "data": {
      "text/plain": [
       "torch.Size([4, 32, 14, 14])"
      ]
     },
     "execution_count": 50,
     "metadata": {},
     "output_type": "execute_result"
    }
   ],
   "source": [
    "b.expand(4,32,14,14).shape"
   ]
  },
  {
   "cell_type": "code",
   "execution_count": 61,
   "metadata": {},
   "outputs": [
    {
     "data": {
      "text/plain": [
       "torch.Size([1, 32, 1, 50])"
      ]
     },
     "execution_count": 61,
     "metadata": {},
     "output_type": "execute_result"
    }
   ],
   "source": [
    "b.expand(-1,32,-1,50).shape "
   ]
  },
  {
   "cell_type": "code",
   "execution_count": 64,
   "metadata": {},
   "outputs": [
    {
     "name": "stdout",
     "output_type": "stream",
     "text": [
      "tensor([[[0.7452, 0.1620],\n",
      "         [0.5676, 0.0442],\n",
      "         [0.4378, 0.4323]],\n",
      "\n",
      "        [[0.4336, 0.8240],\n",
      "         [0.0486, 0.7944],\n",
      "         [0.4667, 0.5244]],\n",
      "\n",
      "        [[0.9565, 0.8769],\n",
      "         [0.0767, 0.1520],\n",
      "         [0.5601, 0.3392]],\n",
      "\n",
      "        [[0.6241, 0.5862],\n",
      "         [0.0781, 0.4905],\n",
      "         [0.1670, 0.6570]]])\n",
      "tensor([[[0.1238],\n",
      "         [0.2136],\n",
      "         [0.2553]]])\n"
     ]
    }
   ],
   "source": [
    "a=torch.rand(4,3,2)\n",
    "b=torch.rand(1,3,1)\n",
    "print(a)\n",
    "print(b)"
   ]
  },
  {
   "cell_type": "code",
   "execution_count": 66,
   "metadata": {},
   "outputs": [
    {
     "data": {
      "text/plain": [
       "tensor([[[0.1238, 0.1238, 0.1238, 0.1238],\n",
       "         [0.2136, 0.2136, 0.2136, 0.2136],\n",
       "         [0.2553, 0.2553, 0.2553, 0.2553]]])"
      ]
     },
     "execution_count": 66,
     "metadata": {},
     "output_type": "execute_result"
    }
   ],
   "source": [
    "b.expand(-1,3,4) #就是复制"
   ]
  },
  {
   "attachments": {},
   "cell_type": "markdown",
   "metadata": {},
   "source": [
    "repeat"
   ]
  },
  {
   "cell_type": "code",
   "execution_count": 69,
   "metadata": {},
   "outputs": [
    {
     "data": {
      "text/plain": [
       "tensor([[[0.1238, 0.1238],\n",
       "         [0.2136, 0.2136],\n",
       "         [0.2553, 0.2553],\n",
       "         [0.1238, 0.1238],\n",
       "         [0.2136, 0.2136],\n",
       "         [0.2553, 0.2553]],\n",
       "\n",
       "        [[0.1238, 0.1238],\n",
       "         [0.2136, 0.2136],\n",
       "         [0.2553, 0.2553],\n",
       "         [0.1238, 0.1238],\n",
       "         [0.2136, 0.2136],\n",
       "         [0.2553, 0.2553]]])"
      ]
     },
     "execution_count": 69,
     "metadata": {},
     "output_type": "execute_result"
    }
   ],
   "source": [
    "b.repeat(2,2,2)"
   ]
  },
  {
   "attachments": {},
   "cell_type": "markdown",
   "metadata": {},
   "source": [
    "## transpose"
   ]
  },
  {
   "cell_type": "code",
   "execution_count": 71,
   "metadata": {},
   "outputs": [
    {
     "data": {
      "text/plain": [
       "torch.Size([4, 3, 2])"
      ]
     },
     "execution_count": 71,
     "metadata": {},
     "output_type": "execute_result"
    }
   ],
   "source": [
    "a.shape"
   ]
  },
  {
   "cell_type": "code",
   "execution_count": 73,
   "metadata": {},
   "outputs": [
    {
     "ename": "RuntimeError",
     "evalue": "t() expects a tensor with <= 2 dimensions, but self is 3D",
     "output_type": "error",
     "traceback": [
      "\u001b[0;31m---------------------------------------------------------------------------\u001b[0m",
      "\u001b[0;31mRuntimeError\u001b[0m                              Traceback (most recent call last)",
      "Cell \u001b[0;32mIn[73], line 1\u001b[0m\n\u001b[0;32m----> 1\u001b[0m a\u001b[39m.\u001b[39;49mt()\n",
      "\u001b[0;31mRuntimeError\u001b[0m: t() expects a tensor with <= 2 dimensions, but self is 3D"
     ]
    }
   ],
   "source": [
    "a.t()"
   ]
  },
  {
   "cell_type": "code",
   "execution_count": 75,
   "metadata": {},
   "outputs": [
    {
     "data": {
      "text/plain": [
       "tensor([[0.1973, 0.2449],\n",
       "        [0.1858, 0.6914],\n",
       "        [0.9855, 0.7725]])"
      ]
     },
     "execution_count": 75,
     "metadata": {},
     "output_type": "execute_result"
    }
   ],
   "source": [
    "b=torch.rand(2,3)\n",
    "b.t()"
   ]
  },
  {
   "cell_type": "code",
   "execution_count": 78,
   "metadata": {},
   "outputs": [
    {
     "data": {
      "text/plain": [
       "torch.Size([4, 2, 3])"
      ]
     },
     "execution_count": 78,
     "metadata": {},
     "output_type": "execute_result"
    }
   ],
   "source": [
    "a.transpose(1,2).shape"
   ]
  },
  {
   "cell_type": "code",
   "execution_count": 80,
   "metadata": {},
   "outputs": [
    {
     "name": "stdout",
     "output_type": "stream",
     "text": [
      "tensor([[[0.7452, 0.5676, 0.4378],\n",
      "         [0.1620, 0.0442, 0.4323]],\n",
      "\n",
      "        [[0.4336, 0.0486, 0.4667],\n",
      "         [0.8240, 0.7944, 0.5244]],\n",
      "\n",
      "        [[0.9565, 0.0767, 0.5601],\n",
      "         [0.8769, 0.1520, 0.3392]],\n",
      "\n",
      "        [[0.6241, 0.0781, 0.1670],\n",
      "         [0.5862, 0.4905, 0.6570]]])\n",
      "tensor([[[0.7452, 0.5676, 0.4378],\n",
      "         [0.1620, 0.0442, 0.4323]],\n",
      "\n",
      "        [[0.4336, 0.0486, 0.4667],\n",
      "         [0.8240, 0.7944, 0.5244]],\n",
      "\n",
      "        [[0.9565, 0.0767, 0.5601],\n",
      "         [0.8769, 0.1520, 0.3392]],\n",
      "\n",
      "        [[0.6241, 0.0781, 0.1670],\n",
      "         [0.5862, 0.4905, 0.6570]]])\n"
     ]
    }
   ],
   "source": [
    "print(a.transpose(1,2))\n",
    "print(a.transpose(1,2).contiguous())\n",
    " #https://blog.csdn.net/qq_37828380/article/details/107855070 \n",
    " # 最好都加上.contiguous()开辟一个新的内存 拷贝一份内存地址,解决一维数组存储导致的下标不连续的问题"
   ]
  },
  {
   "cell_type": "markdown",
   "metadata": {},
   "source": []
  },
  {
   "attachments": {},
   "cell_type": "markdown",
   "metadata": {},
   "source": [
    "permute"
   ]
  },
  {
   "cell_type": "code",
   "execution_count": 88,
   "metadata": {},
   "outputs": [
    {
     "data": {
      "text/plain": [
       "torch.Size([38, 3, 38, 4])"
      ]
     },
     "execution_count": 88,
     "metadata": {},
     "output_type": "execute_result"
    }
   ],
   "source": [
    "a=torch.rand(4,3,38,38)\n",
    "a.shape\n",
    "b=a.permute(-1,-3,-2,-4).shape\n",
    "b"
   ]
  },
  {
   "cell_type": "code",
   "execution_count": null,
   "metadata": {},
   "outputs": [],
   "source": []
  }
 ],
 "metadata": {
  "kernelspec": {
   "display_name": "ngsim",
   "language": "python",
   "name": "python3"
  },
  "language_info": {
   "codemirror_mode": {
    "name": "ipython",
    "version": 3
   },
   "file_extension": ".py",
   "mimetype": "text/x-python",
   "name": "python",
   "nbconvert_exporter": "python",
   "pygments_lexer": "ipython3",
   "version": "3.9.15"
  },
  "orig_nbformat": 4,
  "vscode": {
   "interpreter": {
    "hash": "c0dcbcd98781419af1a8bb81854847d456fd6288ab8580d653df1b1cc53d926b"
   }
  }
 },
 "nbformat": 4,
 "nbformat_minor": 2
}
